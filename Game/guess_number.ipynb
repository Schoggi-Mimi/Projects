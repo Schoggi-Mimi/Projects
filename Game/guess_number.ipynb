{
 "cells": [
  {
   "cell_type": "code",
   "execution_count": 3,
   "metadata": {},
   "outputs": [
    {
     "name": "stdout",
     "output_type": "stream",
     "text": [
      "guess is low\n",
      "guess is low\n",
      "guess is low\n",
      "guess is low\n",
      "guess is low\n",
      "guess is high\n",
      "guess is high\n",
      "guess is low\n",
      "guess is low\n",
      "you guessed it!\n",
      "and it only took you 10 tries!\n"
     ]
    }
   ],
   "source": [
    "import random\n",
    "\n",
    "# Set the range of the random number\n",
    "n = random.randint(1, 100)\n",
    "guess = 0\n",
    "count = 0\n",
    "\n",
    "# Loop until the user guesses the correct number\n",
    "while guess != n:\n",
    "    # Get the user's guess\n",
    "    guess = int(input(\"Enter an integer from 1 to 100: \"))\n",
    "    count += 1\n",
    "    if guess < n:\n",
    "        print(f\"guess: {guess} is low\")\n",
    "    elif guess > n:\n",
    "        print(f\"guess: {guess} is high\")\n",
    "    elif guess == n:\n",
    "        print(f\"you guessed it! The number was {n}\")\n",
    "        print(f\"and it only took you\", count, \"tries!\")"
   ]
  },
  {
   "cell_type": "code",
   "execution_count": null,
   "metadata": {},
   "outputs": [],
   "source": []
  }
 ],
 "metadata": {
  "kernelspec": {
   "display_name": "HSLU",
   "language": "python",
   "name": "python3"
  },
  "language_info": {
   "codemirror_mode": {
    "name": "ipython",
    "version": 3
   },
   "file_extension": ".py",
   "mimetype": "text/x-python",
   "name": "python",
   "nbconvert_exporter": "python",
   "pygments_lexer": "ipython3",
   "version": "3.10.8"
  },
  "orig_nbformat": 4,
  "vscode": {
   "interpreter": {
    "hash": "47f306c5bc91f15f5c648b163b4cf567db7c1c1928c6b3965d3519ac57759890"
   }
  }
 },
 "nbformat": 4,
 "nbformat_minor": 2
}
