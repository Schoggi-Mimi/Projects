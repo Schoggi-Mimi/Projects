{
 "cells": [
  {
   "attachments": {},
   "cell_type": "markdown",
   "metadata": {},
   "source": [
    "Calculate mean, median, and mode of a list of numbers without using built-in functions."
   ]
  },
  {
   "cell_type": "code",
   "execution_count": 2,
   "metadata": {},
   "outputs": [
    {
     "name": "stdout",
     "output_type": "stream",
     "text": [
      "20.2\n"
     ]
    }
   ],
   "source": [
    "# Mean\n",
    "list1 = [12, 16, 20, 20, 12, 30, 25, 23, 24, 20]\n",
    "mean = sum(list1)/len(list1)\n",
    "print(mean)"
   ]
  },
  {
   "cell_type": "code",
   "execution_count": 4,
   "metadata": {},
   "outputs": [],
   "source": [
    "# Median\n",
    "list1.sort()\n",
    "if len(list1)%2 == 0:\n",
    "    median1 = list1[len(list1)//2]\n",
    "    median2 = list1[len(list1)//2 - 1]\n",
    "    median = (median1 + median2)/2\n",
    "    "
   ]
  },
  {
   "cell_type": "code",
   "execution_count": 5,
   "metadata": {},
   "outputs": [
    {
     "name": "stdout",
     "output_type": "stream",
     "text": [
      "5.309523809523809\n"
     ]
    }
   ],
   "source": [
    "noten = [5.5, 6, 5, 5.5, 4.5, 6, 6, 4.5, 5, 5.5, 5.5, 5, 5, 5, 5, 5.5, 5.5, 6, 6, 4, 5.5]\n",
    "mean = sum(noten)/len(noten)\n",
    "print(mean)"
   ]
  },
  {
   "cell_type": "code",
   "execution_count": null,
   "metadata": {},
   "outputs": [],
   "source": []
  }
 ],
 "metadata": {
  "kernelspec": {
   "display_name": "HSLU",
   "language": "python",
   "name": "python3"
  },
  "language_info": {
   "codemirror_mode": {
    "name": "ipython",
    "version": 3
   },
   "file_extension": ".py",
   "mimetype": "text/x-python",
   "name": "python",
   "nbconvert_exporter": "python",
   "pygments_lexer": "ipython3",
   "version": "3.10.8"
  },
  "orig_nbformat": 4,
  "vscode": {
   "interpreter": {
    "hash": "47f306c5bc91f15f5c648b163b4cf567db7c1c1928c6b3965d3519ac57759890"
   }
  }
 },
 "nbformat": 4,
 "nbformat_minor": 2
}
